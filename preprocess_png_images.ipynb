{
 "cells": [
  {
   "cell_type": "code",
   "execution_count": 1,
   "metadata": {
    "metadata": {}
   },
   "outputs": [
    {
     "name": "stderr",
     "output_type": "stream",
     "text": [
      "2024-06-04 21:37:24.762452: I tensorflow/core/util/port.cc:113] oneDNN custom operations are on. You may see slightly different numerical results due to floating-point round-off errors from different computation orders. To turn them off, set the environment variable `TF_ENABLE_ONEDNN_OPTS=0`.\n",
      "2024-06-04 21:37:24.762933: I external/local_tsl/tsl/cuda/cudart_stub.cc:32] Could not find cuda drivers on your machine, GPU will not be used.\n",
      "2024-06-04 21:37:24.765979: I external/local_tsl/tsl/cuda/cudart_stub.cc:32] Could not find cuda drivers on your machine, GPU will not be used.\n",
      "2024-06-04 21:37:24.801321: I tensorflow/core/platform/cpu_feature_guard.cc:210] This TensorFlow binary is optimized to use available CPU instructions in performance-critical operations.\n",
      "To enable the following instructions: AVX2 AVX512F AVX512_VNNI FMA, in other operations, rebuild TensorFlow with the appropriate compiler flags.\n",
      "2024-06-04 21:37:25.494810: W tensorflow/compiler/tf2tensorrt/utils/py_utils.cc:38] TF-TRT Warning: Could not find TensorRT\n"
     ]
    }
   ],
   "source": [
    "from PIL import Image\n",
    "import numpy as np\n",
    "import os\n",
    "import random\n",
    "import tensorflow as tf\n",
    "import matplotlib.pyplot as plt\n",
    "import numpy as np\n",
    "\n",
    "class Preprocessor():\n",
    "    def __init__(self,dataset_path):\n",
    "        self.dataset_path = dataset_path\n",
    "        self.images = []\n",
    "        self.labels = []\n",
    "    \n",
    "    def __load_and_preprocess_image(self,image_path):\n",
    "        image = Image.open(image_path)\n",
    "        print(image.size)\n",
    "        image = image.resize((28, 28))  # Ensure the image is 28x28\n",
    "        image = np.array(image, dtype=np.float32)\n",
    "        image = np.pad(image, ((2, 2), (2, 2), (0, 0)), mode='constant', constant_values=0)\n",
    "        image = image / 255.0\n",
    "        image = 1.0 - image  # Invert colors\n",
    "        #print(image.shape)\n",
    "        return image\n",
    "\n",
    "    def preprocess_images(self)->tuple:\n",
    "        for folder in os.listdir(self.dataset_path):\n",
    "            #print(folder)\n",
    "            folder_path = os.path.join(self.dataset_path,folder+\"/\"+folder)\n",
    "            if os.path.isdir(folder_path):\n",
    "                #print(folder_path)\n",
    "                label = int(folder)\n",
    "                for image_file in os.listdir(folder_path):\n",
    "                    if image_file.endswith('.png'):\n",
    "                        image_path = os.path.join(folder_path,image_file)\n",
    "                        image = self.__load_and_preprocess_image(image_path=image_path)\n",
    "                        self.images.append(image)\n",
    "                        self.labels.append(label)\n",
    "        train_images = tf.convert_to_tensor(self.images,dtype=tf.float32)\n",
    "        train_labels = tf.convert_to_tensor(self.labels,dtype=tf.int32)\n",
    "        return (train_images,train_labels)\n",
    "    \n",
    "    def plot_random_preprocessed_image(self):\n",
    "        plt.imshow(self.images[random.randint(0,107730)], cmap='gray')  # 'cmap' specifies that we want to see the image in grayscale\n",
    "        plt.title('Random Image from Training Data test')\n",
    "        plt.colorbar()\n",
    "        plt.show()\n",
    "        print(self.images[random.randint(0,107730)])\n",
    "    #print(train_images)\n",
    "\n"
   ]
  }
 ],
 "metadata": {
  "kernelspec": {
   "display_name": "lenet5",
   "language": "python",
   "name": "python3"
  },
  "language_info": {
   "codemirror_mode": {
    "name": "ipython",
    "version": 3
   },
   "file_extension": ".py",
   "mimetype": "text/x-python",
   "name": "python",
   "nbconvert_exporter": "python",
   "pygments_lexer": "ipython3",
   "version": "3.10.12"
  }
 },
 "nbformat": 4,
 "nbformat_minor": 2
}
